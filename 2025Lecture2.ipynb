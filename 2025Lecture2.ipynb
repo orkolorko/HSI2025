{
 "cells": [
  {
   "cell_type": "markdown",
   "id": "024737ee",
   "metadata": {},
   "source": [
    "# Summary of lecture 1"
   ]
  },
  {
   "cell_type": "markdown",
   "id": "05cd6c4f",
   "metadata": {},
   "source": [
    "Yesterday I introduced the language Julia, a language that is compiled Just in Time: the first time you run a function, it determines the types of the arguments and compiles it, so the next time is faster.\n",
    "This has a list of advantages:\n",
    "1. it is easy to type generic code\n",
    "2. the user does not need to specify the types as he writes the code, making it easier and faster to reuse code\n",
    "3. the second execution of a function is really fast\n",
    "\n",
    "This puts together the advantages of interpreted languages, as Python and Matlab, with the speed of compiled languages as C++ and Fortran.\n",
    "\n",
    "Summarizing: Julia is faster than Matlab and Python and simpler to program than C++ and Fortran.\n",
    "\n",
    "\n"
   ]
  },
  {
   "cell_type": "markdown",
   "id": "dbce32d3",
   "metadata": {},
   "source": [
    "We used Julia to implement some non-rigorous numerical experiments in Ergodic Theory. While this experiments may be used to gather evidence of some underlying mathematical phenomenon, they are not mathematical proofs.\n",
    "The objective of our course is to develop tools that allow us to prove, with the assistance of a computer, Theorems in Computational Ergodic Theory.\n",
    "\n",
    "To do so, we need to introduce some new tools, both practical and theoretical.\n",
    "\n",
    "Today we will introduce Interval Arithmetics, a numerical concept that allows a computer to compute rigorous enclosures numerical expressions, i.e., intervals that are guaranteed to contain the __TRUE__ mathematical result of a function evaluation."
   ]
  },
  {
   "cell_type": "markdown",
   "id": "7a53f962",
   "metadata": {},
   "source": [
    "# Introducing Interval Arithmetic"
   ]
  },
  {
   "cell_type": "markdown",
   "id": "45d333c7",
   "metadata": {},
   "source": [
    "In this notebook I will introduce one of the main tools of validated numerics: interval arithmetics.\n",
    "We will install a ready made package, the IntervalArithmetic.jl package, a package in the shared Julia repository."
   ]
  },
  {
   "cell_type": "code",
   "execution_count": 2,
   "id": "47628ff7",
   "metadata": {},
   "outputs": [
    {
     "name": "stderr",
     "output_type": "stream",
     "text": [
      "\u001b[32m\u001b[1m   Resolving\u001b[22m\u001b[39m package versions...\n",
      "\u001b[32m\u001b[1m  No Changes\u001b[22m\u001b[39m to `C:\\Users\\isaia\\Code\\HSI2025\\Project.toml`\n",
      "\u001b[32m\u001b[1m  No Changes\u001b[22m\u001b[39m to `C:\\Users\\isaia\\Code\\HSI2025\\Manifest.toml`\n"
     ]
    }
   ],
   "source": [
    "import Pkg;\n",
    "Pkg.add(; name = \"IntervalArithmetic\", version=\"0.20.9\")"
   ]
  },
  {
   "cell_type": "code",
   "execution_count": 4,
   "id": "63139208",
   "metadata": {},
   "outputs": [],
   "source": [
    "using IntervalArithmetic"
   ]
  },
  {
   "cell_type": "markdown",
   "id": "5e39f02c",
   "metadata": {},
   "source": [
    "The main idea behind IntervalArithmetic is the following, given a function $f$, Interval Arithmetics allows us to define a function $F$, called the __interval extension__ of $f$, such that for any set $I$ it returns an interval $F(I)$ such that\n",
    "$$\n",
    "f(I)\\subset F(I).\n",
    "$$\n",
    "In other words, Interval arithmetics allows the computer to compute numerically an interval that contains the true mathematical result of the function. \n",
    "This is called the __range enclosure__ property."
   ]
  },
  {
   "cell_type": "markdown",
   "id": "1c67d196",
   "metadata": {},
   "source": [
    "A reference on the topic is the following book by [W. Tucker - Validated Numerics - A Short Introduction to Rigorous computation](https://www.amazon.de/-/en/Warwick-Tucker/dp/0691147817)"
   ]
  },
  {
   "cell_type": "markdown",
   "id": "25d465d0",
   "metadata": {},
   "source": [
    "The simplest object of Interval Arithmetics are the intervals.\n",
    "The macro @interval defines $x$ as the smallest interval that contains the real point $0.1$.\n",
    "\n",
    "Remark that $0.1$ has infinite binary expansion, so it is not possible to represent it exactly in binary format, so this is a wide interval, with a lower bound different from the upper bound; the upper and lower bounds are the smallest representable number in Floating Point Arithmetic bigger than $0.1$ and the greatest representable number smaller than $x$"
   ]
  },
  {
   "cell_type": "code",
   "execution_count": 5,
   "id": "8ab9f197",
   "metadata": {},
   "outputs": [
    {
     "data": {
      "text/plain": [
       "Display parameters:\n",
       "- format: standard\n",
       "- decorations: false\n",
       "- significant figures: 6"
      ]
     },
     "metadata": {},
     "output_type": "display_data"
    }
   ],
   "source": [
    "@format standard"
   ]
  },
  {
   "cell_type": "code",
   "execution_count": 6,
   "id": "cceb1089",
   "metadata": {},
   "outputs": [
    {
     "data": {
      "text/plain": [
       "[0.0999999, 0.100001]"
      ]
     },
     "metadata": {},
     "output_type": "display_data"
    }
   ],
   "source": [
    "x = @interval 0.1 "
   ]
  },
  {
   "cell_type": "code",
   "execution_count": 7,
   "id": "fe6d7119",
   "metadata": {},
   "outputs": [
    {
     "data": {
      "text/plain": [
       "\"0011111110111001100110011001100110011001100110011001100110011001\""
      ]
     },
     "metadata": {},
     "output_type": "display_data"
    }
   ],
   "source": [
    "bitstring(x.lo)"
   ]
  },
  {
   "cell_type": "code",
   "execution_count": 8,
   "id": "2f1e3a08",
   "metadata": {},
   "outputs": [
    {
     "data": {
      "text/plain": [
       "\"0011111110111001100110011001100110011001100110011001100110011010\""
      ]
     },
     "metadata": {},
     "output_type": "display_data"
    }
   ],
   "source": [
    "bitstring(x.hi)"
   ]
  },
  {
   "cell_type": "markdown",
   "id": "d0bea26c",
   "metadata": {},
   "source": [
    "I will change the output format of the intervals, to a midpoint radius format."
   ]
  },
  {
   "cell_type": "code",
   "execution_count": 9,
   "id": "fdd3c6d8",
   "metadata": {},
   "outputs": [
    {
     "data": {
      "text/plain": [
       "Display parameters:\n",
       "- format: midpoint\n",
       "- decorations: false\n",
       "- significant figures: 6"
      ]
     },
     "metadata": {},
     "output_type": "display_data"
    }
   ],
   "source": [
    "@format midpoint"
   ]
  },
  {
   "cell_type": "code",
   "execution_count": 10,
   "id": "e32b9d53",
   "metadata": {},
   "outputs": [
    {
     "data": {
      "text/plain": [
       "0.1 ± 1.38778e-17"
      ]
     },
     "metadata": {},
     "output_type": "display_data"
    }
   ],
   "source": [
    "x"
   ]
  },
  {
   "cell_type": "code",
   "execution_count": 11,
   "id": "31746457",
   "metadata": {},
   "outputs": [
    {
     "data": {
      "text/plain": [
       "Display parameters:\n",
       "- format: standard\n",
       "- decorations: false\n",
       "- significant figures: 6"
      ]
     },
     "metadata": {},
     "output_type": "display_data"
    }
   ],
   "source": [
    "@format standard"
   ]
  },
  {
   "cell_type": "code",
   "execution_count": 12,
   "id": "a354845c",
   "metadata": {},
   "outputs": [
    {
     "data": {
      "text/plain": [
       "[0.299999, 0.300001]"
      ]
     },
     "metadata": {},
     "output_type": "display_data"
    }
   ],
   "source": [
    "y = @interval 0.3"
   ]
  },
  {
   "cell_type": "markdown",
   "id": "ca11be66",
   "metadata": {},
   "source": [
    "The operations in interval arithmetic are defined so that the sum of two intervals is an interval that contains the sum of all possible intervals (in some sense, this is similar to absolute error estimate as in the statistics of physical experiments)."
   ]
  },
  {
   "cell_type": "code",
   "execution_count": 13,
   "id": "ca561b15",
   "metadata": {},
   "outputs": [
    {
     "data": {
      "text/plain": [
       "[0.399999, 0.400001]"
      ]
     },
     "metadata": {},
     "output_type": "display_data"
    }
   ],
   "source": [
    "x+y"
   ]
  },
  {
   "cell_type": "markdown",
   "id": "27a0864e",
   "metadata": {},
   "source": [
    "The same works with multiplication."
   ]
  },
  {
   "cell_type": "code",
   "execution_count": 14,
   "id": "8c5f3d12",
   "metadata": {},
   "outputs": [
    {
     "data": {
      "text/plain": [
       "[0.0299999, 0.0300001]"
      ]
     },
     "metadata": {},
     "output_type": "display_data"
    }
   ],
   "source": [
    "x*y"
   ]
  },
  {
   "cell_type": "markdown",
   "id": "f1895752",
   "metadata": {},
   "source": [
    "Please note that wide intervals may be defined."
   ]
  },
  {
   "cell_type": "code",
   "execution_count": 15,
   "id": "60bc8f19",
   "metadata": {},
   "outputs": [
    {
     "data": {
      "text/plain": [
       "[-1, 1]"
      ]
     },
     "metadata": {},
     "output_type": "display_data"
    }
   ],
   "source": [
    "x = @interval -1 1"
   ]
  },
  {
   "cell_type": "code",
   "execution_count": 16,
   "id": "1cdc3219",
   "metadata": {},
   "outputs": [
    {
     "data": {
      "text/plain": [
       "[-0.700001, 1.30001]"
      ]
     },
     "metadata": {},
     "output_type": "display_data"
    }
   ],
   "source": [
    "x+y"
   ]
  },
  {
   "cell_type": "markdown",
   "id": "b6461caf",
   "metadata": {},
   "source": [
    "When an interval contains $0$, the real extended line formalism is used.\n",
    "This is called the affine line extension in Tucker's book."
   ]
  },
  {
   "cell_type": "code",
   "execution_count": 17,
   "id": "5f2be61e",
   "metadata": {},
   "outputs": [
    {
     "data": {
      "text/plain": [
       "[-∞, ∞]"
      ]
     },
     "metadata": {},
     "output_type": "display_data"
    }
   ],
   "source": [
    "y/x"
   ]
  },
  {
   "cell_type": "markdown",
   "id": "f8fdd52d",
   "metadata": {},
   "source": [
    "Summarizing: Interval arithmetics computes intervals of confidence. \n",
    "\n",
    "__The result of an operation done with interval arithmetics is guaranteed to contain the true mathematical result of the operation; this allows us to prove theorems with the assistance of a computer.__"
   ]
  },
  {
   "cell_type": "markdown",
   "id": "c239faae",
   "metadata": {},
   "source": [
    "## Function evaluation"
   ]
  },
  {
   "cell_type": "markdown",
   "id": "08a33f4c",
   "metadata": {},
   "source": [
    "Library routines are defined so that the __range enclosure__ property is satisfied. This allows us to get rigorous numerical results on mathematical functions."
   ]
  },
  {
   "cell_type": "code",
   "execution_count": 18,
   "id": "2c0077be",
   "metadata": {},
   "outputs": [
    {
     "data": {
      "text/plain": [
       "f (generic function with 1 method)"
      ]
     },
     "metadata": {},
     "output_type": "display_data"
    }
   ],
   "source": [
    "f(x) = x*sin(1/x)"
   ]
  },
  {
   "cell_type": "code",
   "execution_count": 19,
   "id": "aec55b63",
   "metadata": {},
   "outputs": [
    {
     "data": {
      "text/plain": [
       "[0, 0.100001]"
      ]
     },
     "metadata": {},
     "output_type": "display_data"
    }
   ],
   "source": [
    "x = @interval 0 0.1"
   ]
  },
  {
   "cell_type": "code",
   "execution_count": 20,
   "id": "092fa09a",
   "metadata": {},
   "outputs": [
    {
     "data": {
      "text/plain": [
       "[-0.100001, 0.100001]"
      ]
     },
     "metadata": {},
     "output_type": "display_data"
    }
   ],
   "source": [
    "f(x)"
   ]
  },
  {
   "cell_type": "code",
   "execution_count": 21,
   "id": "93ca8cfd",
   "metadata": {},
   "outputs": [],
   "source": [
    "using Plots"
   ]
  },
  {
   "cell_type": "code",
   "execution_count": 22,
   "id": "ef04f816",
   "metadata": {},
   "outputs": [
    {
     "data": {
      "text/plain": [
       "16-element Vector{Interval{Float64}}:\n",
       " [0, 0.0625]\n",
       "    [0.0625, 0.125]\n",
       "    [0.125, 0.1875]\n",
       "    [0.1875, 0.25]\n",
       "    [0.25, 0.3125]\n",
       "    [0.3125, 0.375]\n",
       "    [0.375, 0.4375]\n",
       "    [0.4375, 0.5]\n",
       "    [0.5, 0.5625]\n",
       "    [0.5625, 0.625]\n",
       "    [0.625, 0.6875]\n",
       "    [0.6875, 0.75]\n",
       "    [0.75, 0.8125]\n",
       "    [0.8125, 0.875]\n",
       "    [0.875, 0.9375]\n",
       "    [0.9375, 1]"
      ]
     },
     "metadata": {},
     "output_type": "display_data"
    }
   ],
   "source": [
    "N = 16\n",
    "X1 = [@interval i/N (i+1)/N for i in 0:N-1]"
   ]
  },
  {
   "cell_type": "code",
   "execution_count": null,
   "id": "fe8f422b",
   "metadata": {},
   "outputs": [],
   "source": [
    "plot(f, 0, 1)\n",
    "plot!(IntervalBox.(X1, f.(X1)))"
   ]
  },
  {
   "cell_type": "markdown",
   "id": "a690701c",
   "metadata": {},
   "source": [
    "It is important to observe, in the plot above, that while the graph of the function is computed nonrigorously, and therefore it is not validate, the interval computation is validated, so the rectangles in pink have the strength of theorems."
   ]
  },
  {
   "cell_type": "code",
   "execution_count": null,
   "id": "2cfe6e64",
   "metadata": {},
   "outputs": [],
   "source": [
    "N = 128\n",
    "X2 = [@interval i/N (i+1)/N for i in 0:N-1]"
   ]
  },
  {
   "cell_type": "code",
   "execution_count": null,
   "id": "0f689b96",
   "metadata": {},
   "outputs": [],
   "source": [
    "plot(f, 0, 1)\n",
    "plot!(IntervalBox.(X2, f.(X2)))"
   ]
  },
  {
   "cell_type": "markdown",
   "id": "a46a5027",
   "metadata": {},
   "source": [
    "The important thing to stress is that the evaluation of a function on a correctly defined interval has the strength of a mathematical theorem, i.e.,"
   ]
  },
  {
   "cell_type": "code",
   "execution_count": null,
   "id": "9f98f3fa",
   "metadata": {},
   "outputs": [],
   "source": [
    "f(@interval 0.5 0.7)"
   ]
  },
  {
   "cell_type": "markdown",
   "id": "b14a66e3",
   "metadata": {},
   "source": [
    "can be read, in other words as, for any $x$ in $[0.5, 0.7]$ we have that $0.454648\\leq f(x)\\leq 0.700001$."
   ]
  },
  {
   "cell_type": "markdown",
   "id": "0a6fb80c",
   "metadata": {},
   "source": [
    "Please remark that this is a totally different scenario from numerical computations, where usually the statements are something as: if the algorithm is stable we get a result which is near the real result (called forward error bound) or if the algorithm is stable it solves a problem which is near our original problem (called backward error bound)."
   ]
  },
  {
   "cell_type": "markdown",
   "id": "12512564",
   "metadata": {},
   "source": [
    "__Exercise__ Evaluate the function $sin(x)$ on the intervals $[0, 0.125]$, $[0, 0.25]$, $[0, 0.5]$, $[0, \\pi]$, $[0, 3\\pi]$.\n",
    "Remember that you can type \\pi+TAB to write the character $\\pi$."
   ]
  },
  {
   "cell_type": "code",
   "execution_count": null,
   "id": "a31a0211",
   "metadata": {},
   "outputs": [],
   "source": [
    "sin(@interval 0 2*π)"
   ]
  },
  {
   "cell_type": "markdown",
   "id": "b9930d20",
   "metadata": {},
   "source": [
    "## How to use this"
   ]
  },
  {
   "cell_type": "markdown",
   "id": "053a2d82",
   "metadata": {},
   "source": [
    "Due to the range enclosure property we can use this, as an example, to exclude intervals that surely __not contain__ zero. There may be intervals that seem to contain zero due to the overestimates of interval arithmetics, but those we excluded we are sure they do not contain zero."
   ]
  },
  {
   "cell_type": "code",
   "execution_count": null,
   "id": "aeca750d",
   "metadata": {},
   "outputs": [],
   "source": [
    "function exclude_not_contain_zero(f, X)\n",
    "    may_contain_zeros = Interval[]\n",
    "    for x in X\n",
    "        if contains_zero(f(x))\n",
    "            append!(may_contain_zeros, x)\n",
    "        end\n",
    "    end\n",
    "    return may_contain_zeros\n",
    "end"
   ]
  },
  {
   "cell_type": "code",
   "execution_count": null,
   "id": "e076eb28",
   "metadata": {},
   "outputs": [],
   "source": [
    "X = [@interval i/N (i+1)/N for i in 0:N-1]\n",
    "Xzeros = exclude_not_contain_zero(f, X)"
   ]
  },
  {
   "cell_type": "code",
   "execution_count": null,
   "id": "576bf21f",
   "metadata": {},
   "outputs": [],
   "source": [
    "plot(f, 0, 1)\n",
    "plot!(IntervalBox.(Xzeros, f.(Xzeros)))\n",
    "plot!(x->0, color = :black)"
   ]
  },
  {
   "cell_type": "markdown",
   "id": "4c2c2a8d",
   "metadata": {},
   "source": [
    "Refining the intervals this gives us a way to identify small intervals that may contain zero; please note that this does not guarantee they contain zero, I will show some methods how to find zeros in a moment."
   ]
  },
  {
   "cell_type": "code",
   "execution_count": null,
   "id": "cba7b843",
   "metadata": {},
   "outputs": [],
   "source": [
    "N = 512\n",
    "X = [@interval i/N (i+1)/N for i in 0:N-1]\n",
    "Xzeros = exclude_not_contain_zero(f, X)"
   ]
  },
  {
   "cell_type": "code",
   "execution_count": null,
   "id": "a1c490be",
   "metadata": {},
   "outputs": [],
   "source": [
    "plot(f, 0, 0.35)\n",
    "plot!(IntervalBox.(Xzeros, f.(Xzeros)))\n",
    "plot!(x->0, color = :black)"
   ]
  },
  {
   "cell_type": "markdown",
   "id": "f13e679c",
   "metadata": {},
   "source": [
    "While this may seem nothing extreme, please remark that this can be used to prove that a function is nonzero in a given interval. This can be used to exclude parameters."
   ]
  },
  {
   "cell_type": "markdown",
   "id": "843f6c0a",
   "metadata": {},
   "source": [
    "## The interval Newton method"
   ]
  },
  {
   "cell_type": "markdown",
   "id": "17e90041",
   "metadata": {},
   "source": [
    "I will introduce now the workhorse of Validated Numerics, the interval Newton method.\n",
    "To do so, we remember the [mean value theorem](https://en.wikipedia.org/wiki/Mean_value_theorem):\n",
    "if $f$ is a continuous function on $[a, b]$ and differentiable on $(a,b)$ then there exists a point\n",
    "$c$ in $(a,b)$ such that\n",
    "$$\n",
    "f(b)-f(a) = f'(c)(b-a).\n",
    "$$"
   ]
  },
  {
   "cell_type": "markdown",
   "id": "151bed1c",
   "metadata": {},
   "source": [
    "We want now to find a solution to the equation \n",
    "$$\n",
    "f(x) = 0.\n",
    "$$"
   ]
  },
  {
   "cell_type": "markdown",
   "id": "974c781f",
   "metadata": {},
   "source": [
    "By the mean value theorem, if $\\tilde{x}$ is a solution of the equation and $x$ is another, nearby point, we have\n",
    "$$\n",
    "f(x) = f'(c)(x-\\tilde{x}),\n",
    "$$\n",
    "and, if $f'(c)\\neq 0$, this implies that\n",
    "$$\n",
    "\\tilde{x} = x-\\frac{f(x)}{f'(c)};\n",
    "$$\n",
    "this is the motivation behind the Newton iteration method, i.e., building the sequence\n",
    "$$\n",
    "x_{n+1} = x_{n}-\\frac{f(x_n)}{f'(x_n)}.\n",
    "$$\n",
    "Please remark that under some conditions, this method converges to a root, but we do not know which root (there may be more than one) nor we can bound the distance between $x_{n}$ and $\\tilde{x}$.\n",
    "__Important__ please remark that if we knew the point $c$, we could compute exactly the root in one step. But the mean value theorem is a result of existence, it does not tell us which point is the point $c$."
   ]
  },
  {
   "cell_type": "markdown",
   "id": "f57e5087",
   "metadata": {},
   "source": [
    "The interval Newton method answers all these issues:\n",
    "1. it proves whether an interval contains a root or not\n",
    "2. it returns us an interval guaranteed to contain a root (this has the strength of a mathematical proof)\n",
    "3. it can prove the fact that the root inside the interval is unique."
   ]
  },
  {
   "cell_type": "markdown",
   "id": "d2dd90c9",
   "metadata": {},
   "source": [
    "The idea is similar to the one used to build the Newton iteration. Suppose we are looking for a root of a function in the interval $I$; then, if $m$ is the midpoint of the interval and $\\tilde{x}$ is the root, we have\n",
    "that\n",
    "$$\n",
    "\\tilde{x} = m-\\frac{f(m)}{f'(c)}\n",
    "$$\n",
    "where $c$ is a point in the interval $I$. Now, interval arithmetics allows us to compute an interval that contains $f'(I)$, which in turn contains $f'(c)$.\n",
    "So, given an interval $I$ we can compute a new interval\n",
    "$$\n",
    "N(f, I) = m-\\frac{f(m)}{f'(I)}.\n",
    "$$\n",
    "\n",
    "In Tucker book it is proved that  :\n",
    "- if $I$ contains a root, then $N(f, I)$ contains a root.\n",
    "- if $N(f,I)\\cap I$ is empty, we know that the interval contains no root. If it is not empty we know it contains at least a root.\n",
    "- If $N(f, I)$ is strictly contained in $I$ the root is unique.\n",
    "\n",
    "So, we have now a tool that allows us to rigorously enclose the roots of a function."
   ]
  },
  {
   "cell_type": "code",
   "execution_count": null,
   "id": "05c6b23a",
   "metadata": {},
   "outputs": [],
   "source": [
    "Newton(f, fprime, I::Interval{T}) where {T} = intersect(Interval{T}(mid(I))-f(Interval{T}(mid(I)))/fprime(I), I)"
   ]
  },
  {
   "cell_type": "code",
   "execution_count": null,
   "id": "ddf0ebf6",
   "metadata": {},
   "outputs": [],
   "source": [
    "x = Newton(sin, cos, @interval 3 4)"
   ]
  },
  {
   "cell_type": "markdown",
   "id": "ad4246e8",
   "metadata": {},
   "source": [
    "As you can see, the result of the Newton interval step is telling us that the function $\\sin$ has a unique $0$ in $[3, 4]$ and giving us a tighter interval that contains this $0$.\n",
    "We can iterate this process."
   ]
  },
  {
   "cell_type": "code",
   "execution_count": null,
   "id": "30085d13",
   "metadata": {},
   "outputs": [],
   "source": [
    "for i in 1:10\n",
    "    x = Newton(sin, cos, x)\n",
    "end\n",
    "println(x)\n",
    "println(diam(x))"
   ]
  },
  {
   "cell_type": "markdown",
   "id": "2d811ca7",
   "metadata": {},
   "source": [
    "So, we have computed an interval that contains $\\pi$, which is the $0$ of the function $\\sin$ in $[3, 4]$, the interval has a diameter of $4.45\\cdot e-16$. Please remark again, that this has the strength of a mathematical theorem, i.e., the interval $x$ has been proved, with the aid of a computer, to contain the value of $\\pi$.\n",
    "If we want tighter bounds, we can use higher precision floating point arithmetics in our intervals."
   ]
  },
  {
   "cell_type": "code",
   "execution_count": null,
   "id": "c0318ce4",
   "metadata": {},
   "outputs": [],
   "source": [
    "setprecision(1024)"
   ]
  },
  {
   "cell_type": "code",
   "execution_count": null,
   "id": "29449745",
   "metadata": {},
   "outputs": [],
   "source": [
    "x = Interval{BigFloat}(x) # we will refine the interval computed in Float64"
   ]
  },
  {
   "cell_type": "code",
   "execution_count": null,
   "id": "3cafa7f0",
   "metadata": {},
   "outputs": [],
   "source": [
    "for i in 1:10\n",
    "    x = Newton(sin, cos, x)\n",
    "end\n",
    "println(x)\n",
    "println(diam(x))"
   ]
  },
  {
   "cell_type": "markdown",
   "id": "bb862e67",
   "metadata": {},
   "source": [
    "Again, this is a theorem, we have that $\\pi$ is bounded below by"
   ]
  },
  {
   "cell_type": "code",
   "execution_count": null,
   "id": "43f735f1",
   "metadata": {},
   "outputs": [],
   "source": [
    "x.lo"
   ]
  },
  {
   "cell_type": "markdown",
   "id": "0c6faca8",
   "metadata": {},
   "source": [
    "and above by"
   ]
  },
  {
   "cell_type": "code",
   "execution_count": null,
   "id": "3d20a673",
   "metadata": {},
   "outputs": [],
   "source": [
    "x.hi"
   ]
  },
  {
   "cell_type": "markdown",
   "id": "6ad785f3",
   "metadata": {},
   "source": [
    "Using Automatic Differentiation, the code for the Newton method can be written in an even simpler way."
   ]
  },
  {
   "cell_type": "code",
   "execution_count": null,
   "id": "89f6e3cb",
   "metadata": {},
   "outputs": [],
   "source": [
    "using DualNumbers"
   ]
  },
  {
   "cell_type": "code",
   "execution_count": null,
   "id": "3cf91b67",
   "metadata": {},
   "outputs": [],
   "source": [
    "Newton(f, I) = Newton(f, x->(f(Dual(x, 1)).epsilon), I)"
   ]
  },
  {
   "cell_type": "markdown",
   "id": "5e64a254",
   "metadata": {},
   "source": [
    "We can use this to certify the intervals that may contain the the zeros of the function $f(x) = x \\cdot sin(1/x)$."
   ]
  },
  {
   "cell_type": "code",
   "execution_count": null,
   "id": "e48d36bb",
   "metadata": {},
   "outputs": [],
   "source": [
    "new_x = [Newton(f, x) for x in Xzeros]"
   ]
  },
  {
   "cell_type": "code",
   "execution_count": null,
   "id": "121af8fd",
   "metadata": {},
   "outputs": [],
   "source": [
    "plot(f, 0, 0.35)\n",
    "plot!(IntervalBox.(new_x, f.(new_x)))\n",
    "plot!(x->0, color = :black)"
   ]
  },
  {
   "cell_type": "markdown",
   "id": "2572fdec",
   "metadata": {},
   "source": [
    "The last two intervals are so thin that the plotting function is not rendering them exactly, but the Newton method confirmed them. What is striking is that the Newton method allowed us to prove the existence of at least one zero in each one of the intervals above.\n",
    "\n",
    "We will zoom to $[0.3180, 0.3185]$."
   ]
  },
  {
   "cell_type": "code",
   "execution_count": null,
   "id": "eb00ff69",
   "metadata": {},
   "outputs": [],
   "source": [
    "plot(f, 0.3180, 0.3185)\n",
    "plot!(IntervalBox.(new_x[end], f.(new_x[end])))\n",
    "plot!(x->0, color = :black)"
   ]
  },
  {
   "cell_type": "markdown",
   "id": "83ee1ad0",
   "metadata": {},
   "source": [
    "__Exercise__: Modify the Interval Newton Method to solve the equation $f(x)=y$; can you implement it in such a way that $y$ may be an interval? What happens when you use to solve an equation $f(x)=y$ with $y$ a wide interval? "
   ]
  },
  {
   "cell_type": "markdown",
   "id": "849902a7",
   "metadata": {},
   "source": [
    "## Taylor Models"
   ]
  },
  {
   "cell_type": "markdown",
   "id": "0b7d38df",
   "metadata": {},
   "source": [
    "I will introduce now another tool of Validated Numerics, used to get rigorous approximations of functions, called Taylor Models.\n",
    "\n",
    "They are used in the rigorous computation of integrals and the rigorous computation of enclosures of trajectories of ODE. "
   ]
  },
  {
   "cell_type": "markdown",
   "id": "bf2beca8",
   "metadata": {},
   "source": [
    "We want to be able to approximate a function by a polynomial with rigorous error bound."
   ]
  },
  {
   "cell_type": "code",
   "execution_count": null,
   "id": "a35ad0a9",
   "metadata": {},
   "outputs": [],
   "source": [
    "import Pkg; Pkg.add(\"TaylorModels\")"
   ]
  },
  {
   "cell_type": "code",
   "execution_count": null,
   "id": "d2293ac1",
   "metadata": {},
   "outputs": [],
   "source": [
    "using TaylorModels"
   ]
  },
  {
   "cell_type": "code",
   "execution_count": null,
   "id": "f98ed4cb",
   "metadata": {},
   "outputs": [],
   "source": [
    "f(x) = x*(x-1)*(x+2)*(x+3)^2*(x+7)*sin(2*π*x+0.5)\n",
    "I =  @interval -0.5 0.5 # Domain"
   ]
  },
  {
   "cell_type": "code",
   "execution_count": null,
   "id": "c522d2f1",
   "metadata": {},
   "outputs": [],
   "source": [
    "plot(f, -0.5, 0.5)"
   ]
  },
  {
   "cell_type": "markdown",
   "id": "25dab717",
   "metadata": {},
   "source": [
    "A Taylor model is a polynomial $P$ of degree $k$ and an interval $\\Delta$ such that given a function $f$, on an interval $I$, $P$ is the Taylor polynomial of order $k$ at the center of the interval and $\\Delta$ is an interval such that\n",
    "$$\n",
    "f(x)-P(x) \\in \\Delta\n",
    "$$"
   ]
  },
  {
   "cell_type": "code",
   "execution_count": null,
   "id": "c1466418",
   "metadata": {},
   "outputs": [],
   "source": [
    "TM10 = TaylorModel1(10, I); # Taylor model of order 10\n",
    "TM15 = TaylorModel1(15, I); #Taylor model of order 15"
   ]
  },
  {
   "cell_type": "code",
   "execution_count": null,
   "id": "33304bdb",
   "metadata": {},
   "outputs": [],
   "source": [
    "TM10"
   ]
  },
  {
   "cell_type": "code",
   "execution_count": null,
   "id": "f8b69f69",
   "metadata": {},
   "outputs": [],
   "source": [
    "TM15"
   ]
  },
  {
   "cell_type": "markdown",
   "id": "0b74c648",
   "metadata": {},
   "source": [
    "Please note that the Taylor model is centered at the midpoint of $I$."
   ]
  },
  {
   "cell_type": "code",
   "execution_count": null,
   "id": "e5344c1c",
   "metadata": {},
   "outputs": [],
   "source": [
    "@doc TaylorModel1"
   ]
  },
  {
   "cell_type": "code",
   "execution_count": null,
   "id": "9328918c",
   "metadata": {},
   "outputs": [],
   "source": [
    "FM10 = f(TM10)"
   ]
  },
  {
   "cell_type": "markdown",
   "id": "4e870b25",
   "metadata": {},
   "source": [
    "So, on $[-0.5, 0.5]$ the error between the value of $f$ and the value of the Taylor Model is contained in the interval $[-1.50153, 2.61226]$"
   ]
  },
  {
   "cell_type": "markdown",
   "id": "64743334",
   "metadata": {},
   "source": [
    "On the same interval the Taylor model of order $15$ is the following."
   ]
  },
  {
   "cell_type": "code",
   "execution_count": null,
   "id": "ab970f00",
   "metadata": {},
   "outputs": [],
   "source": [
    "FM15 = f(TM15)"
   ]
  },
  {
   "cell_type": "markdown",
   "id": "37b936d8",
   "metadata": {},
   "source": [
    "As expected, passing from a linear approximation With higher order, we get smaller $\\Delta$."
   ]
  },
  {
   "cell_type": "code",
   "execution_count": null,
   "id": "d38a9d98",
   "metadata": {},
   "outputs": [],
   "source": [
    "plot(f, -0.5, 0.5)\n",
    "plot!(FM10, color=:red)\n",
    "plot!(FM15, color = :green)"
   ]
  },
  {
   "cell_type": "markdown",
   "id": "f96205bf",
   "metadata": {},
   "source": [
    "__Exercise__ : Find the Taylor models of order $5$, $10$ and $15$ of the function $f$ on the interval $[-0.125, 0.125]$. What happens to $\\Delta$?"
   ]
  },
  {
   "cell_type": "markdown",
   "id": "b4ff125c",
   "metadata": {},
   "source": [
    "## Rigorous Integration"
   ]
  },
  {
   "cell_type": "markdown",
   "id": "91428e15",
   "metadata": {},
   "source": [
    "We are interested in computing rigorously the value of an integral. To do so, we will use Taylor Models."
   ]
  },
  {
   "cell_type": "code",
   "execution_count": null,
   "id": "309ab89b",
   "metadata": {},
   "outputs": [],
   "source": [
    "f(x) = sin(exp(1/x))"
   ]
  },
  {
   "cell_type": "code",
   "execution_count": null,
   "id": "381138ee",
   "metadata": {},
   "outputs": [],
   "source": [
    "plot(f, 0.125, 1)"
   ]
  },
  {
   "cell_type": "markdown",
   "id": "0c67438b",
   "metadata": {},
   "source": [
    "In this section I will show a tecnique to find intervals that enclose the true value of an integral. To show the power of the method I will compute the integral of an oscillating integral."
   ]
  },
  {
   "cell_type": "markdown",
   "id": "5162e0c7",
   "metadata": {},
   "source": [
    "Having a Taylor expansion centered at the center of the interval allows us to easily compute the integral of the function over the integral.\n",
    "Let $m$ be the midpoint of the interval, $r = x-m$ and $a_i$ the coefficients of $P$:\n",
    "$$\n",
    "\\int_I f dx = \\sum_{i=0}^n a_i \\int_I (x-m)^i dx +\\int_I f(x)-P(x) dx,\n",
    "$$\n",
    "so the integral is contained in the interval with center\n",
    "$$\n",
    "2\\sum_{i=0}^{\\lfloor n/2 \\rfloor} a_{2i}\\frac{r^{2i+1}}{2i+1} \n",
    "$$\n",
    "and radius $\\Delta\\cdot |I|$ (where $|I|$ is the length of I). "
   ]
  },
  {
   "cell_type": "code",
   "execution_count": null,
   "id": "61322601",
   "metadata": {},
   "outputs": [],
   "source": [
    "function integrate1(f, I; steps = 1024, degree = 6)\n",
    "    lo = I.lo\n",
    "    hi = I.hi\n",
    "    l = diam(I)\n",
    "    int_center = Interval(0.0)\n",
    "    int_error = Interval(0.0)\n",
    "    for i in 1:steps\n",
    "        left = lo+(i-1)*(l/steps)\n",
    "        right = lo+i*l/steps\n",
    "        r = (1/2)*(l/steps)\n",
    "        J = interval(left, right)\n",
    "        TM = TaylorModel1(degree, J)\n",
    "        FM = f(TM)\n",
    "        #@info FM\n",
    "        for i in 0:Int64(floor(degree/2))\n",
    "            int_center+=2*(FM.pol[2*i]*r^(2*i+1))/(2*i+1)\n",
    "            int_error +=2*FM.rem*r\n",
    "        end\n",
    "    end\n",
    "    return int_center+int_error\n",
    "end    "
   ]
  },
  {
   "cell_type": "code",
   "execution_count": null,
   "id": "4a7df504",
   "metadata": {},
   "outputs": [],
   "source": [
    "integrate1(f, @interval 0.25 1; steps = 1024, degree = 6)"
   ]
  },
  {
   "cell_type": "markdown",
   "id": "b95fcdcd",
   "metadata": {},
   "source": [
    "This integral method can be made adaptive, both in the size of the interval $J$ and the degree of the Taylor expansion. This has the strength of a mathematical proof."
   ]
  },
  {
   "cell_type": "code",
   "execution_count": null,
   "id": "dd1acab8",
   "metadata": {},
   "outputs": [],
   "source": [
    "function adaptive_integration(f, I::Interval; tol = 2^-10, steps = 8, degree = 6) # tol 2^-10, steps = 8 are default values\n",
    "    lo = I.lo\n",
    "    hi = I.hi\n",
    "    l = diam(I)\n",
    "    int_value = Interval(0.0)\n",
    "    for i in 1:steps\n",
    "        left = lo+(i-1)*(l/steps)\n",
    "        right = lo+i*l/steps\n",
    "        Istep = Interval(left, right)\n",
    "        val = integrate1(f, Istep)\n",
    "        if radius(val)<tol\n",
    "            int_value += val\n",
    "        else\n",
    "            I₁, I₂ = bisect(I)\n",
    "            val₁ = adaptive_integration(f, I₁; tol = tol/2, steps = steps, degree = degree+2)\n",
    "            val₂ = adaptive_integration(f, I₁; tol = tol/2, steps = steps, degree = degree+2)\n",
    "            int_value +=val₁+val₂\n",
    "        end\n",
    "    end\n",
    "    return int_value\n",
    "end"
   ]
  },
  {
   "cell_type": "code",
   "execution_count": null,
   "id": "7a4bf5a1",
   "metadata": {},
   "outputs": [],
   "source": [
    "@time adaptive_integration(f, @interval 0.125 1)"
   ]
  },
  {
   "cell_type": "markdown",
   "id": "7c2bc657",
   "metadata": {},
   "source": [
    "__Exercise__: Try to push the computation of the integral further near $0$."
   ]
  },
  {
   "cell_type": "markdown",
   "id": "a2715692",
   "metadata": {},
   "source": [
    "# Summary of the lecture"
   ]
  },
  {
   "cell_type": "markdown",
   "id": "fe6bb051",
   "metadata": {},
   "source": [
    "In this lecture I introduced some tools that allow us to prove Theorems with the help of a computer.\n",
    "1. Interval Arithmetic, that allows us to rigorously enclose the range of a function on an interval $I$\n",
    "2. Interval Newton Method, that allows us to find an interval that is proved to contain the solution of the equation $f(x)=y$, allowing us to rigorously find inverse images\n",
    "3. Taylor Models that allow us to approximate functions by polynomials with rigorous and explicit error bounds\n",
    "4. Rigorous integration that allows us to compute rigorously the value of an integral over an Interval.\n",
    "\n",
    "All these tools are the engine of our implementation of the Ulam method: we use the Interval Newton method to compute preimages, computing an Interval of entries which contains the entries of the true abstract matrix.\n",
    "\n",
    "This is going to allow us to approximate the invariant density $h$ of the physical measure of a system.\n",
    "\n",
    "Then are going to use rigorous integration to compute the Birkhoff averages of observables in a rigorous way, through the identity\n",
    "$$\n",
    "\\lim_{n\\to +\\infty}\\frac{1}{n}\\sum_{i=0}^{n-1} \\phi(T^i(x))=\\int \\phi h dx.\n",
    "$$"
   ]
  },
  {
   "cell_type": "code",
   "execution_count": null,
   "id": "f7e5c0bd",
   "metadata": {},
   "outputs": [],
   "source": []
  }
 ],
 "metadata": {
  "kernelspec": {
   "display_name": "Julia 1.11.6",
   "language": "julia",
   "name": "julia-1.11"
  },
  "language_info": {
   "file_extension": ".jl",
   "mimetype": "application/julia",
   "name": "julia",
   "version": "1.11.6"
  }
 },
 "nbformat": 4,
 "nbformat_minor": 5
}
